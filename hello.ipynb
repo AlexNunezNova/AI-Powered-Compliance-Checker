{
 "cells": [
  {
   "cell_type": "code",
   "execution_count": 4,
   "metadata": {},
   "outputs": [
    {
     "name": "stderr",
     "output_type": "stream",
     "text": [
      "2024-07-01 18:52:29.373 Session state does not function when running a script without `streamlit run`\n"
     ]
    }
   ],
   "source": [
    "import streamlit as st\n",
    "import os\n",
    "from llama_index.core import (\n",
    "    VectorStoreIndex,\n",
    "    SimpleDirectoryReader,\n",
    "    StorageContext,\n",
    "    load_index_from_storage,\n",
    ")\n",
    "from pathlib import Path\n",
    "import tempfile\n",
    "\n",
    "# Constants\n",
    "os.environ[\"OPENAI_API_KEY\"] = \"sk-proj-ZqOnlW0jOBq1qJn10biUT3BlbkFJVTQEahfEqJEoCNOY1TMx\"\n",
    "PERSIST_DIR = \"data/storage\"\n",
    "PRE_EXISTING_DOC_DIR = \"data/storage/GDPR_EN.docx\"\n",
    "\n",
    "# Load the pre-existing document and create the initial index if necessary\n",
    "def initialize_index():\n",
    "    if not os.path.exists(PERSIST_DIR):\n",
    "        st.write(\"Initializing storage and indexing pre-existing document...\")\n",
    "        documents = SimpleDirectoryReader(PRE_EXISTING_DOC_DIR).load_data()\n",
    "        index = VectorStoreIndex.from_documents(documents)\n",
    "        # Store the index for later use\n",
    "        index.storage_context.persist(persist_dir=PERSIST_DIR)\n",
    "        st.write(\"Index initialized and persisted.\")\n",
    "    else:\n",
    "        st.write(\"Loading existing index from storage...\")\n",
    "        storage_context = StorageContext.from_defaults(persist_dir=PERSIST_DIR)\n",
    "        index = load_index_from_storage(storage_context)\n",
    "        st.write(\"Index loaded.\")\n",
    "    return index\n",
    "\n",
    "# Function to add a new document to the index\n",
    "def add_document_to_index(index, document_path):\n",
    "    st.write(f\"Adding document {document_path} to the index...\")\n",
    "    documents = SimpleDirectoryReader(document_path).load_data()\n",
    "    index.add_documents(documents)\n",
    "    index.storage_context.persist(persist_dir=PERSIST_DIR)\n",
    "    st.write(\"Document added and index updated.\")\n",
    "\n",
    "# Function to create a prompt template\n",
    "def create_prompt_template(question, document1_summary, document2_summary):\n",
    "    template = (\n",
    "        f\"Document 1 Summary: {document1_summary}\\n\\n\"\n",
    "        f\"Document 2 Summary: {document2_summary}\\n\\n\"\n",
    "        f\"Question: {question}\\n\"\n",
    "        \"Suggest if the policy from Document 2 is within compliance of Document 1.\"\n",
    "    )\n",
    "    return template\n",
    "\n",
    "# Streamlit app\n",
    "def main():\n",
    "    st.title(\"Dynamic Document Indexing with Streamlit\")\n",
    "\n",
    "    # Initialize or load the index\n",
    "    index = initialize_index()\n",
    "\n",
    "    # File uploader for new document\n",
    "    uploaded_file = st.file_uploader(\"Upload a new document\", type=[\"txt\", \"pdf\", \"docx\"])\n",
    "    \n",
    "    if uploaded_file is not None:\n",
    "        with tempfile.NamedTemporaryFile(delete=False) as temp_file:\n",
    "            temp_file.write(uploaded_file.read())\n",
    "            temp_file_path = Path(temp_file.name)\n",
    "        \n",
    "        # Add the uploaded document to the index\n",
    "        add_document_to_index(index, temp_file_path)\n",
    "\n",
    "        # Clean up temporary file\n",
    "        temp_file_path.unlink()\n",
    "\n",
    "    # Create a query engine\n",
    "    query_engine = index.as_query_engine()\n",
    "\n",
    "    # Text input for the user's question\n",
    "    question = st.text_input(\"Enter your question:\")\n",
    "\n",
    "    if question and uploaded_file:\n",
    "        # Generate summaries for the documents (for demonstration, we'll use a simple method)\n",
    "        # In a real application, you would extract or generate summaries dynamically\n",
    "        document1_summary = \"Summary of Document 1 (pre-existing document)\"\n",
    "        document2_summary = \"Summary of Document 2 (uploaded document)\"\n",
    "\n",
    "        # Create a prompt using the template\n",
    "        prompt = create_prompt_template(question, document1_summary, document2_summary)\n",
    "\n",
    "        # Get the response from the query engine\n",
    "        response = query_engine.query(prompt)\n",
    "        \n",
    "        # Display the question and response\n",
    "        st.write(f\"Prompt: {prompt}\")\n",
    "        st.write(f\"Response: {response}\")\n",
    "\n",
    "if __name__ == \"__main__\":\n",
    "    main()\n"
   ]
  },
  {
   "cell_type": "code",
   "execution_count": 5,
   "metadata": {},
   "outputs": [
    {
     "ename": "SyntaxError",
     "evalue": "invalid syntax (4284796380.py, line 1)",
     "output_type": "error",
     "traceback": [
      "\u001b[0;36m  Cell \u001b[0;32mIn[5], line 1\u001b[0;36m\u001b[0m\n\u001b[0;31m    streamlit run hello.py\u001b[0m\n\u001b[0m              ^\u001b[0m\n\u001b[0;31mSyntaxError\u001b[0m\u001b[0;31m:\u001b[0m invalid syntax\n"
     ]
    }
   ],
   "source": [
    "\n"
   ]
  }
 ],
 "metadata": {
  "kernelspec": {
   "display_name": "coding",
   "language": "python",
   "name": "python3"
  },
  "language_info": {
   "codemirror_mode": {
    "name": "ipython",
    "version": 3
   },
   "file_extension": ".py",
   "mimetype": "text/x-python",
   "name": "python",
   "nbconvert_exporter": "python",
   "pygments_lexer": "ipython3",
   "version": "3.11.9"
  }
 },
 "nbformat": 4,
 "nbformat_minor": 2
}
